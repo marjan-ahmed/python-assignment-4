{
  "nbformat": 4,
  "nbformat_minor": 0,
  "metadata": {
    "colab": {
      "provenance": [],
      "authorship_tag": "ABX9TyMMfkqwhgB/jwPvBpPvp4ol",
      "include_colab_link": true
    },
    "kernelspec": {
      "name": "python3",
      "display_name": "Python 3"
    },
    "language_info": {
      "name": "python"
    }
  },
  "cells": [
    {
      "cell_type": "markdown",
      "metadata": {
        "id": "view-in-github",
        "colab_type": "text"
      },
      "source": [
        "<a href=\"https://colab.research.google.com/github/marjan-ahmed/python-assignment-4/blob/main/add_two_numbers.ipynb\" target=\"_parent\"><img src=\"https://colab.research.google.com/assets/colab-badge.svg\" alt=\"Open In Colab\"/></a>"
      ]
    },
    {
      "cell_type": "code",
      "execution_count": 4,
      "metadata": {
        "colab": {
          "base_uri": "https://localhost:8080/"
        },
        "id": "mcLMGyUW8nIC",
        "outputId": "2c3fdfe5-720c-4603-8abc-72999da223cc"
      },
      "outputs": [
        {
          "output_type": "stream",
          "name": "stdout",
          "text": [
            "Adding two Numbers\n",
            "Enter the first Number: 10\n",
            "Enter the second Number: 10\n",
            "The result is: 20\n"
          ]
        }
      ],
      "source": [
        "def main():\n",
        "  print(\"Adding two Numbers\")\n",
        "  num1 = int(input(\"Enter the first Number: \"))\n",
        "  num2 = int(input(\"Enter the second Number: \"))\n",
        "  result = num1 + num2\n",
        "  print(\"The result is:\", result)\n",
        "\n",
        "if __name__ == '__main__':\n",
        "  main()"
      ]
    }
  ]
}